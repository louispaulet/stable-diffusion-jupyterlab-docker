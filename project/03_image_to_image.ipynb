{
 "cells": [
  {
   "cell_type": "code",
   "execution_count": null,
   "id": "eb12141b-73b5-4a56-9b4c-10cb2a31a3b7",
   "metadata": {},
   "outputs": [],
   "source": [
    "!pip install accelerate"
   ]
  },
  {
   "cell_type": "code",
   "execution_count": null,
   "id": "893f2e83-edc2-4be9-acc2-395022343f9a",
   "metadata": {},
   "outputs": [],
   "source": [
    "import PIL\n",
    "from PIL import Image\n",
    "import numpy as np\n",
    "import torch\n",
    "from torch import autocast\n",
    "from slugify import slugify\n",
    "from time import time\n",
    "\n",
    "from diffusers import DDIMScheduler, StableDiffusionImg2ImgPipeline\n",
    "from diffusion_utils import stable_diffusion_preprocess_image"
   ]
  },
  {
   "cell_type": "code",
   "execution_count": null,
   "id": "4b3da21e-7ab4-41db-9e6e-ccbdb7413c0b",
   "metadata": {},
   "outputs": [],
   "source": [
    "device     = 'cuda'\n",
    "# model_path = 'models/stable-diffusion-v1.4'\n",
    "model_path = 'models/stable-diffusion-v1.5'\n",
    "\n",
    "scheduler = DDIMScheduler(beta_start=0.00085, beta_end=0.012, beta_schedule=\"scaled_linear\", clip_sample=False, set_alpha_to_one=False)\n",
    "model = StableDiffusionImg2ImgPipeline.from_pretrained(\n",
    "    model_path,\n",
    "    scheduler=scheduler,\n",
    "    revision='fp16',\n",
    "    torch_dtype=torch.float16,\n",
    ").to(device)"
   ]
  },
  {
   "cell_type": "code",
   "execution_count": null,
   "id": "b7cba527-fd8b-40b3-b053-46ff5dec60d8",
   "metadata": {},
   "outputs": [],
   "source": [
    "model.safety_checker = (lambda images, clip_input: (images, False))"
   ]
  },
  {
   "cell_type": "code",
   "execution_count": null,
   "id": "b8b5bd60-2e4c-4f58-8092-4effd623d542",
   "metadata": {
    "tags": []
   },
   "outputs": [],
   "source": [
    "def make_image_for_path(path, img_show):\n",
    "\n",
    "    # prompt = 'a chicken explaining to chicks, equations on the blackboard, elegant, intricate, digital painting, artstation, concept art, smooth, sharp focus, illustration, art by artgerm and greg rutkowski and alphonse mucha'\n",
    "    generator = torch.Generator(device=device).manual_seed(42)\n",
    "    # prompt = \"digital painting of Les Filles de Thespius by Gustave Moreau, very detailed faces\"\n",
    "    prompt = \"masterwork digital painting of shrek in the style of John Everett Millais, trending on artstation\"\n",
    "    start_image_preprocessed = stable_diffusion_preprocess_image(path)\n",
    "    repetitions = 1\n",
    "\n",
    "    with autocast('cuda'):\n",
    "        for r in range(repetitions):\n",
    "            image = model(\n",
    "                prompt = prompt,\n",
    "                init_image = start_image_preprocessed,\n",
    "                num_inference_steps=100,\n",
    "                strength = 0.3, # 0 = no noise, 1 = max noise\n",
    "                guidance_scale = 7.5,# how much to rely on the textual prompt\n",
    "                generator = generator,\n",
    "            )\n",
    "            image = image.images[0]\n",
    "            if img_show:\n",
    "                image.show()\n",
    "            image.save(f'images/{time()}_{slugify(prompt[:100])}.png')"
   ]
  },
  {
   "cell_type": "code",
   "execution_count": null,
   "id": "6da2e8ee-728f-4e1d-8dff-bfa05b006a35",
   "metadata": {
    "tags": []
   },
   "outputs": [],
   "source": [
    "from glob import glob\n",
    "input_path = \"images/shrek_resized\"\n",
    "filename_list = sorted(glob(input_path+\"/*\", recursive = True))\n",
    "# filename_list"
   ]
  },
  {
   "cell_type": "code",
   "execution_count": null,
   "id": "aa787b86-7b64-4b8a-bbc4-3eddf815714e",
   "metadata": {
    "tags": []
   },
   "outputs": [],
   "source": [
    "from tqdm.notebook import trange, tqdm\n",
    "\n",
    "# resume from image no 1839\n",
    "\n",
    "for index,curr_path in tqdm(enumerate(filename_list)):\n",
    "    if index % 3 == 0:\n",
    "        print(\"image number : \" +str(index))\n",
    "        make_image_for_path(curr_path, False)"
   ]
  },
  {
   "cell_type": "markdown",
   "id": "889d3f38-ecde-48d0-81a0-127f1d365806",
   "metadata": {},
   "source": [
    "# Convert movie extract to 512x512 fimages/shrek_resized/"
   ]
  },
  {
   "cell_type": "code",
   "execution_count": null,
   "id": "9a367a9a-20cb-459a-b494-ce8e7cf98eb2",
   "metadata": {
    "tags": []
   },
   "outputs": [],
   "source": [
    "# from glob import glob\n",
    "# input_path = \"images/shrek_resized/\"\n",
    "# filename_list = sorted(glob(input_path+\"/*\", recursive = True))\n",
    "# filename_list"
   ]
  },
  {
   "cell_type": "code",
   "execution_count": null,
   "id": "d2c76d38-e0a5-4f01-991a-b9864431d88a",
   "metadata": {},
   "outputs": [],
   "source": [
    "# from PIL import Image, ImageOps\n",
    "\n",
    "# for curr_image_path in filename_list:\n",
    "#     with Image.open(curr_image_path) as im:\n",
    "#         im = ImageOps.pad(im, (512, 512), color='black')\n",
    "#     im.save(curr_image_path)\n",
    "#     # im.show()"
   ]
  },
  {
   "cell_type": "code",
   "execution_count": null,
   "id": "4adbd05f-c9d6-484e-8c91-c20c8b45ca1f",
   "metadata": {},
   "outputs": [],
   "source": []
  }
 ],
 "metadata": {
  "kernelspec": {
   "display_name": "Python 3 (ipykernel)",
   "language": "python",
   "name": "python3"
  },
  "language_info": {
   "codemirror_mode": {
    "name": "ipython",
    "version": 3
   },
   "file_extension": ".py",
   "mimetype": "text/x-python",
   "name": "python",
   "nbconvert_exporter": "python",
   "pygments_lexer": "ipython3",
   "version": "3.7.13"
  }
 },
 "nbformat": 4,
 "nbformat_minor": 5
}
